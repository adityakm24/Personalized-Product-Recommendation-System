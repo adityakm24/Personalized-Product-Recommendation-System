{
 "cells": [
  {
   "cell_type": "code",
   "execution_count": 31,
   "id": "initial_id",
   "metadata": {
    "collapsed": true,
    "ExecuteTime": {
     "end_time": "2024-10-07T16:29:02.564224400Z",
     "start_time": "2024-10-07T16:26:35.618629700Z"
    }
   },
   "outputs": [
    {
     "name": "stdout",
     "output_type": "stream",
     "text": [
      "         asin                                              title  \\\n",
      "0  B09B96TG33  Echo Dot (5th generation, 2022 release) | Big ...   \n",
      "1  B01HTH3C8S  Anker Soundcore mini, Super-Portable Bluetooth...   \n",
      "2  B09B8YWXDF  Echo Dot (5th generation, 2022 release) | Big ...   \n",
      "3  B09B8T5VGV  Echo Dot with clock (5th generation, 2022 rele...   \n",
      "4  B09WX6QD65  Introducing Echo Pop | Full sound compact Wi-F...   \n",
      "\n",
      "                                              imgUrl  \\\n",
      "0  https://m.media-amazon.com/images/I/71C3lbbeLs...   \n",
      "1  https://m.media-amazon.com/images/I/61c5rSxwP0...   \n",
      "2  https://m.media-amazon.com/images/I/61j3SEUjMJ...   \n",
      "3  https://m.media-amazon.com/images/I/71yf6yTNWS...   \n",
      "4  https://m.media-amazon.com/images/I/613dEoF9-r...   \n",
      "\n",
      "                               productURL  stars  reviews  price  \\\n",
      "0  https://www.amazon.co.uk/dp/B09B96TG33    4.7    15308  21.99   \n",
      "1  https://www.amazon.co.uk/dp/B01HTH3C8S    4.7    98099  23.99   \n",
      "2  https://www.amazon.co.uk/dp/B09B8YWXDF    4.7    15308  21.99   \n",
      "3  https://www.amazon.co.uk/dp/B09B8T5VGV    4.7     7205  31.99   \n",
      "4  https://www.amazon.co.uk/dp/B09WX6QD65    4.6     1881  17.99   \n",
      "\n",
      "   isBestSeller  boughtInLastMonth    categoryName  \n",
      "0         False                  0  Hi-Fi Speakers  \n",
      "1          True                  0  Hi-Fi Speakers  \n",
      "2         False                  0  Hi-Fi Speakers  \n",
      "3         False                  0  Hi-Fi Speakers  \n",
      "4         False                  0  Hi-Fi Speakers  \n"
     ]
    }
   ],
   "source": [
    "import pandas as pd\n",
    "\n",
    "# Load your dataset\n",
    "df = pd.read_csv('amz_uk_processed_data.csv')\n",
    "\n",
    "# Preview the first few rows\n",
    "print(df.head())"
   ]
  },
  {
   "cell_type": "code",
   "execution_count": 32,
   "outputs": [
    {
     "name": "stdout",
     "output_type": "stream",
     "text": [
      "<class 'pandas.core.frame.DataFrame'>\n",
      "RangeIndex: 2222742 entries, 0 to 2222741\n",
      "Data columns (total 10 columns):\n",
      " #   Column             Dtype  \n",
      "---  ------             -----  \n",
      " 0   asin               object \n",
      " 1   title              object \n",
      " 2   imgUrl             object \n",
      " 3   productURL         object \n",
      " 4   stars              float64\n",
      " 5   reviews            int64  \n",
      " 6   price              float64\n",
      " 7   isBestSeller       bool   \n",
      " 8   boughtInLastMonth  int64  \n",
      " 9   categoryName       object \n",
      "dtypes: bool(1), float64(2), int64(2), object(5)\n",
      "memory usage: 154.7+ MB\n",
      "asin                 0\n",
      "title                0\n",
      "imgUrl               0\n",
      "productURL           0\n",
      "stars                0\n",
      "reviews              0\n",
      "price                0\n",
      "isBestSeller         0\n",
      "boughtInLastMonth    0\n",
      "categoryName         0\n",
      "dtype: int64\n",
      "              stars       reviews         price  boughtInLastMonth\n",
      "count  2.222742e+06  2.222742e+06  2.222742e+06       2.222742e+06\n",
      "mean   2.031870e+00  3.821617e+02  9.425737e+01       1.856902e+01\n",
      "std    2.185497e+00  5.020752e+03  3.606225e+02       1.919030e+02\n",
      "min    0.000000e+00  0.000000e+00  0.000000e+00       0.000000e+00\n",
      "25%    0.000000e+00  0.000000e+00  1.000000e+01       0.000000e+00\n",
      "50%    0.000000e+00  0.000000e+00  1.990000e+01       0.000000e+00\n",
      "75%    4.400000e+00  4.400000e+01  4.771000e+01       0.000000e+00\n",
      "max    5.000000e+00  1.356658e+06  1.000000e+05       5.000000e+04\n"
     ]
    }
   ],
   "source": [
    "# Check dataset info\n",
    "df.info()\n",
    "\n",
    "# Check for missing values\n",
    "print(df.isnull().sum())\n",
    "\n",
    "# Summary statistics\n",
    "print(df.describe())"
   ],
   "metadata": {
    "collapsed": false,
    "ExecuteTime": {
     "end_time": "2024-10-07T16:29:06.223411200Z",
     "start_time": "2024-10-07T16:29:02.620230400Z"
    }
   },
   "id": "2728d0ff36fb666d"
  },
  {
   "cell_type": "code",
   "execution_count": 33,
   "outputs": [
    {
     "name": "stdout",
     "output_type": "stream",
     "text": [
      "         asin                                              title  stars  \\\n",
      "0  B09B96TG33  Echo Dot (5th generation, 2022 release) | Big ...    4.7   \n",
      "1  B01HTH3C8S  Anker Soundcore mini, Super-Portable Bluetooth...    4.7   \n",
      "2  B09B8YWXDF  Echo Dot (5th generation, 2022 release) | Big ...    4.7   \n",
      "3  B09B8T5VGV  Echo Dot with clock (5th generation, 2022 rele...    4.7   \n",
      "4  B09WX6QD65  Introducing Echo Pop | Full sound compact Wi-F...    4.6   \n",
      "\n",
      "   reviews  price  isBestSeller  boughtInLastMonth    categoryName  \n",
      "0    15308  21.99             0                  0  Hi-Fi Speakers  \n",
      "1    98099  23.99             1                  0  Hi-Fi Speakers  \n",
      "2    15308  21.99             0                  0  Hi-Fi Speakers  \n",
      "3     7205  31.99             0                  0  Hi-Fi Speakers  \n",
      "4     1881  17.99             0                  0  Hi-Fi Speakers  \n"
     ]
    }
   ],
   "source": [
    "# Remove duplicates based on ASIN\n",
    "df = df.drop_duplicates(subset=['asin'])\n",
    "\n",
    "# Remove unnecessary columns (like imgUrl and productURL)\n",
    "df = df.drop(['imgUrl', 'productURL'], axis=1)\n",
    "\n",
    "# Strip leading/trailing spaces in textual columns\n",
    "df['title'] = df['title'].str.strip()\n",
    "\n",
    "# Convert boolean columns to integers (e.g., 'isBestSeller')\n",
    "df['isBestSeller'] = df['isBestSeller'].astype(int)\n",
    "\n",
    "# Preview cleaned data\n",
    "print(df.head())"
   ],
   "metadata": {
    "collapsed": false,
    "ExecuteTime": {
     "end_time": "2024-10-07T16:29:17.630465900Z",
     "start_time": "2024-10-07T16:29:06.148859200Z"
    }
   },
   "id": "df0fe5e6091a502c"
  },
  {
   "cell_type": "code",
   "execution_count": 34,
   "outputs": [
    {
     "name": "stdout",
     "output_type": "stream",
     "text": [
      "asin                 0\n",
      "title                0\n",
      "stars                0\n",
      "reviews              0\n",
      "price                0\n",
      "isBestSeller         0\n",
      "boughtInLastMonth    0\n",
      "categoryName         0\n",
      "dtype: int64\n",
      "asin                 0\n",
      "title                0\n",
      "stars                0\n",
      "reviews              0\n",
      "price                0\n",
      "isBestSeller         0\n",
      "boughtInLastMonth    0\n",
      "categoryName         0\n",
      "dtype: int64\n"
     ]
    }
   ],
   "source": [
    "# Check for missing values\n",
    "print(df.isnull().sum())\n",
    "\n",
    "# If there are missing values, you can decide to fill them or drop the rows\n",
    "# For example, fill missing 'stars' with mean value\n",
    "df['stars'] = df['stars'].fillna(df['stars'].mean())\n",
    "\n",
    "# Similarly, you can drop rows where critical columns like 'asin' or 'title' are missing\n",
    "df = df.dropna(subset=['asin', 'title'])\n",
    "\n",
    "# Check again to ensure no critical missing values\n",
    "print(df.isnull().sum())"
   ],
   "metadata": {
    "collapsed": false,
    "ExecuteTime": {
     "end_time": "2024-10-07T16:29:23.872589500Z",
     "start_time": "2024-10-07T16:29:17.642477800Z"
    }
   },
   "id": "cfb1fcef39b10854"
  },
  {
   "cell_type": "code",
   "execution_count": 35,
   "outputs": [],
   "source": [
    "import numpy as np\n",
    "\n",
    "# Apply log transformation to the 'reviews' column\n",
    "df['log_reviews'] = np.log1p(df['reviews'])  # log(1 + reviews) to avoid issues with zero values\n"
   ],
   "metadata": {
    "collapsed": false,
    "ExecuteTime": {
     "end_time": "2024-10-07T16:29:23.873590600Z",
     "start_time": "2024-10-07T16:29:23.016303400Z"
    }
   },
   "id": "920be26a540f5df1"
  },
  {
   "cell_type": "code",
   "execution_count": 36,
   "outputs": [],
   "source": [
    "# Create price bands\n",
    "df['price_band'] = pd.cut(df['price'], bins=[0, 20, 50, 100, 200, 500], labels=['Low', 'Mid', 'High', 'Premium', 'Luxury'])\n"
   ],
   "metadata": {
    "collapsed": false,
    "ExecuteTime": {
     "end_time": "2024-10-07T16:29:24.583776800Z",
     "start_time": "2024-10-07T16:29:23.261552100Z"
    }
   },
   "id": "47062773d33dce38"
  },
  {
   "cell_type": "code",
   "execution_count": 37,
   "outputs": [],
   "source": [
    "# Create rating categories\n",
    "df['rating_category'] = pd.cut(df['stars'], bins=[0, 3, 4, 5], labels=['Low', 'Medium', 'High'])\n"
   ],
   "metadata": {
    "collapsed": false,
    "ExecuteTime": {
     "end_time": "2024-10-07T16:29:24.590174900Z",
     "start_time": "2024-10-07T16:29:24.063954900Z"
    }
   },
   "id": "b900c26ab709835a"
  },
  {
   "cell_type": "code",
   "execution_count": 38,
   "outputs": [],
   "source": [
    "# Interaction metric based on reviews, price, and stars\n",
    "df['interaction_score'] = (df['reviews'] * df['stars']) / df['price']\n"
   ],
   "metadata": {
    "collapsed": false,
    "ExecuteTime": {
     "end_time": "2024-10-07T16:29:25.239499500Z",
     "start_time": "2024-10-07T16:29:24.131442700Z"
    }
   },
   "id": "9fc4ed5b870290d4"
  },
  {
   "cell_type": "code",
   "execution_count": 39,
   "outputs": [
    {
     "name": "stdout",
     "output_type": "stream",
     "text": [
      "         asin                                              title  stars  \\\n",
      "0  B09B96TG33  Echo Dot (5th generation, 2022 release) | Big ...    4.7   \n",
      "1  B01HTH3C8S  Anker Soundcore mini, Super-Portable Bluetooth...    4.7   \n",
      "2  B09B8YWXDF  Echo Dot (5th generation, 2022 release) | Big ...    4.7   \n",
      "3  B09B8T5VGV  Echo Dot with clock (5th generation, 2022 rele...    4.7   \n",
      "4  B09WX6QD65  Introducing Echo Pop | Full sound compact Wi-F...    4.6   \n",
      "\n",
      "   reviews  price  isBestSeller  boughtInLastMonth  log_reviews  \\\n",
      "0    15308  21.99             0                  0     9.636196   \n",
      "1    98099  23.99             1                  0    11.493743   \n",
      "2    15308  21.99             0                  0     9.636196   \n",
      "3     7205  31.99             0                  0     8.882669   \n",
      "4     1881  17.99             0                  0     7.540090   \n",
      "\n",
      "   interaction_score  price_band_Mid  ...  categoryName_Vases  \\\n",
      "0        3271.832651            True  ...               False   \n",
      "1       19219.062109            True  ...               False   \n",
      "2        3271.832651            True  ...               False   \n",
      "3        1058.565177            True  ...               False   \n",
      "4         480.967204           False  ...               False   \n",
      "\n",
      "   categoryName_Water Coolers, Filters & Cartridges  \\\n",
      "0                                             False   \n",
      "1                                             False   \n",
      "2                                             False   \n",
      "3                                             False   \n",
      "4                                             False   \n",
      "\n",
      "   categoryName_Wearable Technology  categoryName_Wind Instruments  \\\n",
      "0                             False                          False   \n",
      "1                             False                          False   \n",
      "2                             False                          False   \n",
      "3                             False                          False   \n",
      "4                             False                          False   \n",
      "\n",
      "   categoryName_Window Treatments  categoryName_Women  \\\n",
      "0                           False               False   \n",
      "1                           False               False   \n",
      "2                           False               False   \n",
      "3                           False               False   \n",
      "4                           False               False   \n",
      "\n",
      "   categoryName_Women's Sports & Outdoor Shoes  \\\n",
      "0                                        False   \n",
      "1                                        False   \n",
      "2                                        False   \n",
      "3                                        False   \n",
      "4                                        False   \n",
      "\n",
      "   categoryName_eBook Readers & Accessories  rating_category_Medium  \\\n",
      "0                                     False                   False   \n",
      "1                                     False                   False   \n",
      "2                                     False                   False   \n",
      "3                                     False                   False   \n",
      "4                                     False                   False   \n",
      "\n",
      "   rating_category_High  \n",
      "0                  True  \n",
      "1                  True  \n",
      "2                  True  \n",
      "3                  True  \n",
      "4                  True  \n",
      "\n",
      "[5 rows x 310 columns]\n"
     ]
    }
   ],
   "source": [
    "# Encode the categorical columns 'price_band', 'categoryName', and 'rating_category'\n",
    "df = pd.get_dummies(df, columns=['price_band', 'categoryName', 'rating_category'], drop_first=True)\n",
    "\n",
    "# Check the new structure after encoding\n",
    "print(df.head())\n"
   ],
   "metadata": {
    "collapsed": false,
    "ExecuteTime": {
     "end_time": "2024-10-07T16:29:32.532028500Z",
     "start_time": "2024-10-07T16:29:25.065601Z"
    }
   },
   "id": "296d273abae8fefa"
  },
  {
   "cell_type": "code",
   "execution_count": 40,
   "outputs": [
    {
     "ename": "ValueError",
     "evalue": "Input X contains infinity or a value too large for dtype('float64').",
     "output_type": "error",
     "traceback": [
      "\u001B[1;31m---------------------------------------------------------------------------\u001B[0m",
      "\u001B[1;31mValueError\u001B[0m                                Traceback (most recent call last)",
      "Cell \u001B[1;32mIn[40], line 7\u001B[0m\n\u001B[0;32m      4\u001B[0m scaler \u001B[38;5;241m=\u001B[39m StandardScaler()\n\u001B[0;32m      6\u001B[0m \u001B[38;5;66;03m# Apply normalization to numerical columns: 'reviews', 'price', 'interaction_score', etc.\u001B[39;00m\n\u001B[1;32m----> 7\u001B[0m df[[\u001B[38;5;124m'\u001B[39m\u001B[38;5;124mreviews\u001B[39m\u001B[38;5;124m'\u001B[39m, \u001B[38;5;124m'\u001B[39m\u001B[38;5;124mprice\u001B[39m\u001B[38;5;124m'\u001B[39m, \u001B[38;5;124m'\u001B[39m\u001B[38;5;124minteraction_score\u001B[39m\u001B[38;5;124m'\u001B[39m]] \u001B[38;5;241m=\u001B[39m \u001B[43mscaler\u001B[49m\u001B[38;5;241;43m.\u001B[39;49m\u001B[43mfit_transform\u001B[49m\u001B[43m(\u001B[49m\u001B[43mdf\u001B[49m\u001B[43m[\u001B[49m\u001B[43m[\u001B[49m\u001B[38;5;124;43m'\u001B[39;49m\u001B[38;5;124;43mreviews\u001B[39;49m\u001B[38;5;124;43m'\u001B[39;49m\u001B[43m,\u001B[49m\u001B[43m \u001B[49m\u001B[38;5;124;43m'\u001B[39;49m\u001B[38;5;124;43mprice\u001B[39;49m\u001B[38;5;124;43m'\u001B[39;49m\u001B[43m,\u001B[49m\u001B[43m \u001B[49m\u001B[38;5;124;43m'\u001B[39;49m\u001B[38;5;124;43minteraction_score\u001B[39;49m\u001B[38;5;124;43m'\u001B[39;49m\u001B[43m]\u001B[49m\u001B[43m]\u001B[49m\u001B[43m)\u001B[49m\n\u001B[0;32m      9\u001B[0m \u001B[38;5;66;03m# Check the normalized values\u001B[39;00m\n\u001B[0;32m     10\u001B[0m \u001B[38;5;28mprint\u001B[39m(df\u001B[38;5;241m.\u001B[39mhead())\n",
      "File \u001B[1;32mE:\\Users\\ADITYA\\anaconda3\\envs\\ML\\Lib\\site-packages\\sklearn\\utils\\_set_output.py:313\u001B[0m, in \u001B[0;36m_wrap_method_output.<locals>.wrapped\u001B[1;34m(self, X, *args, **kwargs)\u001B[0m\n\u001B[0;32m    311\u001B[0m \u001B[38;5;129m@wraps\u001B[39m(f)\n\u001B[0;32m    312\u001B[0m \u001B[38;5;28;01mdef\u001B[39;00m \u001B[38;5;21mwrapped\u001B[39m(\u001B[38;5;28mself\u001B[39m, X, \u001B[38;5;241m*\u001B[39margs, \u001B[38;5;241m*\u001B[39m\u001B[38;5;241m*\u001B[39mkwargs):\n\u001B[1;32m--> 313\u001B[0m     data_to_wrap \u001B[38;5;241m=\u001B[39m \u001B[43mf\u001B[49m\u001B[43m(\u001B[49m\u001B[38;5;28;43mself\u001B[39;49m\u001B[43m,\u001B[49m\u001B[43m \u001B[49m\u001B[43mX\u001B[49m\u001B[43m,\u001B[49m\u001B[43m \u001B[49m\u001B[38;5;241;43m*\u001B[39;49m\u001B[43margs\u001B[49m\u001B[43m,\u001B[49m\u001B[43m \u001B[49m\u001B[38;5;241;43m*\u001B[39;49m\u001B[38;5;241;43m*\u001B[39;49m\u001B[43mkwargs\u001B[49m\u001B[43m)\u001B[49m\n\u001B[0;32m    314\u001B[0m     \u001B[38;5;28;01mif\u001B[39;00m \u001B[38;5;28misinstance\u001B[39m(data_to_wrap, \u001B[38;5;28mtuple\u001B[39m):\n\u001B[0;32m    315\u001B[0m         \u001B[38;5;66;03m# only wrap the first output for cross decomposition\u001B[39;00m\n\u001B[0;32m    316\u001B[0m         return_tuple \u001B[38;5;241m=\u001B[39m (\n\u001B[0;32m    317\u001B[0m             _wrap_data_with_container(method, data_to_wrap[\u001B[38;5;241m0\u001B[39m], X, \u001B[38;5;28mself\u001B[39m),\n\u001B[0;32m    318\u001B[0m             \u001B[38;5;241m*\u001B[39mdata_to_wrap[\u001B[38;5;241m1\u001B[39m:],\n\u001B[0;32m    319\u001B[0m         )\n",
      "File \u001B[1;32mE:\\Users\\ADITYA\\anaconda3\\envs\\ML\\Lib\\site-packages\\sklearn\\base.py:1098\u001B[0m, in \u001B[0;36mTransformerMixin.fit_transform\u001B[1;34m(self, X, y, **fit_params)\u001B[0m\n\u001B[0;32m   1083\u001B[0m         warnings\u001B[38;5;241m.\u001B[39mwarn(\n\u001B[0;32m   1084\u001B[0m             (\n\u001B[0;32m   1085\u001B[0m                 \u001B[38;5;124mf\u001B[39m\u001B[38;5;124m\"\u001B[39m\u001B[38;5;124mThis object (\u001B[39m\u001B[38;5;132;01m{\u001B[39;00m\u001B[38;5;28mself\u001B[39m\u001B[38;5;241m.\u001B[39m\u001B[38;5;18m__class__\u001B[39m\u001B[38;5;241m.\u001B[39m\u001B[38;5;18m__name__\u001B[39m\u001B[38;5;132;01m}\u001B[39;00m\u001B[38;5;124m) has a `transform`\u001B[39m\u001B[38;5;124m\"\u001B[39m\n\u001B[1;32m   (...)\u001B[0m\n\u001B[0;32m   1093\u001B[0m             \u001B[38;5;167;01mUserWarning\u001B[39;00m,\n\u001B[0;32m   1094\u001B[0m         )\n\u001B[0;32m   1096\u001B[0m \u001B[38;5;28;01mif\u001B[39;00m y \u001B[38;5;129;01mis\u001B[39;00m \u001B[38;5;28;01mNone\u001B[39;00m:\n\u001B[0;32m   1097\u001B[0m     \u001B[38;5;66;03m# fit method of arity 1 (unsupervised transformation)\u001B[39;00m\n\u001B[1;32m-> 1098\u001B[0m     \u001B[38;5;28;01mreturn\u001B[39;00m \u001B[38;5;28;43mself\u001B[39;49m\u001B[38;5;241;43m.\u001B[39;49m\u001B[43mfit\u001B[49m\u001B[43m(\u001B[49m\u001B[43mX\u001B[49m\u001B[43m,\u001B[49m\u001B[43m \u001B[49m\u001B[38;5;241;43m*\u001B[39;49m\u001B[38;5;241;43m*\u001B[39;49m\u001B[43mfit_params\u001B[49m\u001B[43m)\u001B[49m\u001B[38;5;241m.\u001B[39mtransform(X)\n\u001B[0;32m   1099\u001B[0m \u001B[38;5;28;01melse\u001B[39;00m:\n\u001B[0;32m   1100\u001B[0m     \u001B[38;5;66;03m# fit method of arity 2 (supervised transformation)\u001B[39;00m\n\u001B[0;32m   1101\u001B[0m     \u001B[38;5;28;01mreturn\u001B[39;00m \u001B[38;5;28mself\u001B[39m\u001B[38;5;241m.\u001B[39mfit(X, y, \u001B[38;5;241m*\u001B[39m\u001B[38;5;241m*\u001B[39mfit_params)\u001B[38;5;241m.\u001B[39mtransform(X)\n",
      "File \u001B[1;32mE:\\Users\\ADITYA\\anaconda3\\envs\\ML\\Lib\\site-packages\\sklearn\\preprocessing\\_data.py:878\u001B[0m, in \u001B[0;36mStandardScaler.fit\u001B[1;34m(self, X, y, sample_weight)\u001B[0m\n\u001B[0;32m    876\u001B[0m \u001B[38;5;66;03m# Reset internal state before fitting\u001B[39;00m\n\u001B[0;32m    877\u001B[0m \u001B[38;5;28mself\u001B[39m\u001B[38;5;241m.\u001B[39m_reset()\n\u001B[1;32m--> 878\u001B[0m \u001B[38;5;28;01mreturn\u001B[39;00m \u001B[38;5;28;43mself\u001B[39;49m\u001B[38;5;241;43m.\u001B[39;49m\u001B[43mpartial_fit\u001B[49m\u001B[43m(\u001B[49m\u001B[43mX\u001B[49m\u001B[43m,\u001B[49m\u001B[43m \u001B[49m\u001B[43my\u001B[49m\u001B[43m,\u001B[49m\u001B[43m \u001B[49m\u001B[43msample_weight\u001B[49m\u001B[43m)\u001B[49m\n",
      "File \u001B[1;32mE:\\Users\\ADITYA\\anaconda3\\envs\\ML\\Lib\\site-packages\\sklearn\\base.py:1473\u001B[0m, in \u001B[0;36m_fit_context.<locals>.decorator.<locals>.wrapper\u001B[1;34m(estimator, *args, **kwargs)\u001B[0m\n\u001B[0;32m   1466\u001B[0m     estimator\u001B[38;5;241m.\u001B[39m_validate_params()\n\u001B[0;32m   1468\u001B[0m \u001B[38;5;28;01mwith\u001B[39;00m config_context(\n\u001B[0;32m   1469\u001B[0m     skip_parameter_validation\u001B[38;5;241m=\u001B[39m(\n\u001B[0;32m   1470\u001B[0m         prefer_skip_nested_validation \u001B[38;5;129;01mor\u001B[39;00m global_skip_validation\n\u001B[0;32m   1471\u001B[0m     )\n\u001B[0;32m   1472\u001B[0m ):\n\u001B[1;32m-> 1473\u001B[0m     \u001B[38;5;28;01mreturn\u001B[39;00m \u001B[43mfit_method\u001B[49m\u001B[43m(\u001B[49m\u001B[43mestimator\u001B[49m\u001B[43m,\u001B[49m\u001B[43m \u001B[49m\u001B[38;5;241;43m*\u001B[39;49m\u001B[43margs\u001B[49m\u001B[43m,\u001B[49m\u001B[43m \u001B[49m\u001B[38;5;241;43m*\u001B[39;49m\u001B[38;5;241;43m*\u001B[39;49m\u001B[43mkwargs\u001B[49m\u001B[43m)\u001B[49m\n",
      "File \u001B[1;32mE:\\Users\\ADITYA\\anaconda3\\envs\\ML\\Lib\\site-packages\\sklearn\\preprocessing\\_data.py:914\u001B[0m, in \u001B[0;36mStandardScaler.partial_fit\u001B[1;34m(self, X, y, sample_weight)\u001B[0m\n\u001B[0;32m    882\u001B[0m \u001B[38;5;250m\u001B[39m\u001B[38;5;124;03m\"\"\"Online computation of mean and std on X for later scaling.\u001B[39;00m\n\u001B[0;32m    883\u001B[0m \n\u001B[0;32m    884\u001B[0m \u001B[38;5;124;03mAll of X is processed as a single batch. This is intended for cases\u001B[39;00m\n\u001B[1;32m   (...)\u001B[0m\n\u001B[0;32m    911\u001B[0m \u001B[38;5;124;03m    Fitted scaler.\u001B[39;00m\n\u001B[0;32m    912\u001B[0m \u001B[38;5;124;03m\"\"\"\u001B[39;00m\n\u001B[0;32m    913\u001B[0m first_call \u001B[38;5;241m=\u001B[39m \u001B[38;5;129;01mnot\u001B[39;00m \u001B[38;5;28mhasattr\u001B[39m(\u001B[38;5;28mself\u001B[39m, \u001B[38;5;124m\"\u001B[39m\u001B[38;5;124mn_samples_seen_\u001B[39m\u001B[38;5;124m\"\u001B[39m)\n\u001B[1;32m--> 914\u001B[0m X \u001B[38;5;241m=\u001B[39m \u001B[38;5;28;43mself\u001B[39;49m\u001B[38;5;241;43m.\u001B[39;49m\u001B[43m_validate_data\u001B[49m\u001B[43m(\u001B[49m\n\u001B[0;32m    915\u001B[0m \u001B[43m    \u001B[49m\u001B[43mX\u001B[49m\u001B[43m,\u001B[49m\n\u001B[0;32m    916\u001B[0m \u001B[43m    \u001B[49m\u001B[43maccept_sparse\u001B[49m\u001B[38;5;241;43m=\u001B[39;49m\u001B[43m(\u001B[49m\u001B[38;5;124;43m\"\u001B[39;49m\u001B[38;5;124;43mcsr\u001B[39;49m\u001B[38;5;124;43m\"\u001B[39;49m\u001B[43m,\u001B[49m\u001B[43m \u001B[49m\u001B[38;5;124;43m\"\u001B[39;49m\u001B[38;5;124;43mcsc\u001B[39;49m\u001B[38;5;124;43m\"\u001B[39;49m\u001B[43m)\u001B[49m\u001B[43m,\u001B[49m\n\u001B[0;32m    917\u001B[0m \u001B[43m    \u001B[49m\u001B[43mdtype\u001B[49m\u001B[38;5;241;43m=\u001B[39;49m\u001B[43mFLOAT_DTYPES\u001B[49m\u001B[43m,\u001B[49m\n\u001B[0;32m    918\u001B[0m \u001B[43m    \u001B[49m\u001B[43mforce_all_finite\u001B[49m\u001B[38;5;241;43m=\u001B[39;49m\u001B[38;5;124;43m\"\u001B[39;49m\u001B[38;5;124;43mallow-nan\u001B[39;49m\u001B[38;5;124;43m\"\u001B[39;49m\u001B[43m,\u001B[49m\n\u001B[0;32m    919\u001B[0m \u001B[43m    \u001B[49m\u001B[43mreset\u001B[49m\u001B[38;5;241;43m=\u001B[39;49m\u001B[43mfirst_call\u001B[49m\u001B[43m,\u001B[49m\n\u001B[0;32m    920\u001B[0m \u001B[43m\u001B[49m\u001B[43m)\u001B[49m\n\u001B[0;32m    921\u001B[0m n_features \u001B[38;5;241m=\u001B[39m X\u001B[38;5;241m.\u001B[39mshape[\u001B[38;5;241m1\u001B[39m]\n\u001B[0;32m    923\u001B[0m \u001B[38;5;28;01mif\u001B[39;00m sample_weight \u001B[38;5;129;01mis\u001B[39;00m \u001B[38;5;129;01mnot\u001B[39;00m \u001B[38;5;28;01mNone\u001B[39;00m:\n",
      "File \u001B[1;32mE:\\Users\\ADITYA\\anaconda3\\envs\\ML\\Lib\\site-packages\\sklearn\\base.py:633\u001B[0m, in \u001B[0;36mBaseEstimator._validate_data\u001B[1;34m(self, X, y, reset, validate_separately, cast_to_ndarray, **check_params)\u001B[0m\n\u001B[0;32m    631\u001B[0m         out \u001B[38;5;241m=\u001B[39m X, y\n\u001B[0;32m    632\u001B[0m \u001B[38;5;28;01melif\u001B[39;00m \u001B[38;5;129;01mnot\u001B[39;00m no_val_X \u001B[38;5;129;01mand\u001B[39;00m no_val_y:\n\u001B[1;32m--> 633\u001B[0m     out \u001B[38;5;241m=\u001B[39m \u001B[43mcheck_array\u001B[49m\u001B[43m(\u001B[49m\u001B[43mX\u001B[49m\u001B[43m,\u001B[49m\u001B[43m \u001B[49m\u001B[43minput_name\u001B[49m\u001B[38;5;241;43m=\u001B[39;49m\u001B[38;5;124;43m\"\u001B[39;49m\u001B[38;5;124;43mX\u001B[39;49m\u001B[38;5;124;43m\"\u001B[39;49m\u001B[43m,\u001B[49m\u001B[43m \u001B[49m\u001B[38;5;241;43m*\u001B[39;49m\u001B[38;5;241;43m*\u001B[39;49m\u001B[43mcheck_params\u001B[49m\u001B[43m)\u001B[49m\n\u001B[0;32m    634\u001B[0m \u001B[38;5;28;01melif\u001B[39;00m no_val_X \u001B[38;5;129;01mand\u001B[39;00m \u001B[38;5;129;01mnot\u001B[39;00m no_val_y:\n\u001B[0;32m    635\u001B[0m     out \u001B[38;5;241m=\u001B[39m _check_y(y, \u001B[38;5;241m*\u001B[39m\u001B[38;5;241m*\u001B[39mcheck_params)\n",
      "File \u001B[1;32mE:\\Users\\ADITYA\\anaconda3\\envs\\ML\\Lib\\site-packages\\sklearn\\utils\\validation.py:1064\u001B[0m, in \u001B[0;36mcheck_array\u001B[1;34m(array, accept_sparse, accept_large_sparse, dtype, order, copy, force_writeable, force_all_finite, ensure_2d, allow_nd, ensure_min_samples, ensure_min_features, estimator, input_name)\u001B[0m\n\u001B[0;32m   1058\u001B[0m     \u001B[38;5;28;01mraise\u001B[39;00m \u001B[38;5;167;01mValueError\u001B[39;00m(\n\u001B[0;32m   1059\u001B[0m         \u001B[38;5;124m\"\u001B[39m\u001B[38;5;124mFound array with dim \u001B[39m\u001B[38;5;132;01m%d\u001B[39;00m\u001B[38;5;124m. \u001B[39m\u001B[38;5;132;01m%s\u001B[39;00m\u001B[38;5;124m expected <= 2.\u001B[39m\u001B[38;5;124m\"\u001B[39m\n\u001B[0;32m   1060\u001B[0m         \u001B[38;5;241m%\u001B[39m (array\u001B[38;5;241m.\u001B[39mndim, estimator_name)\n\u001B[0;32m   1061\u001B[0m     )\n\u001B[0;32m   1063\u001B[0m \u001B[38;5;28;01mif\u001B[39;00m force_all_finite:\n\u001B[1;32m-> 1064\u001B[0m     \u001B[43m_assert_all_finite\u001B[49m\u001B[43m(\u001B[49m\n\u001B[0;32m   1065\u001B[0m \u001B[43m        \u001B[49m\u001B[43marray\u001B[49m\u001B[43m,\u001B[49m\n\u001B[0;32m   1066\u001B[0m \u001B[43m        \u001B[49m\u001B[43minput_name\u001B[49m\u001B[38;5;241;43m=\u001B[39;49m\u001B[43minput_name\u001B[49m\u001B[43m,\u001B[49m\n\u001B[0;32m   1067\u001B[0m \u001B[43m        \u001B[49m\u001B[43mestimator_name\u001B[49m\u001B[38;5;241;43m=\u001B[39;49m\u001B[43mestimator_name\u001B[49m\u001B[43m,\u001B[49m\n\u001B[0;32m   1068\u001B[0m \u001B[43m        \u001B[49m\u001B[43mallow_nan\u001B[49m\u001B[38;5;241;43m=\u001B[39;49m\u001B[43mforce_all_finite\u001B[49m\u001B[43m \u001B[49m\u001B[38;5;241;43m==\u001B[39;49m\u001B[43m \u001B[49m\u001B[38;5;124;43m\"\u001B[39;49m\u001B[38;5;124;43mallow-nan\u001B[39;49m\u001B[38;5;124;43m\"\u001B[39;49m\u001B[43m,\u001B[49m\n\u001B[0;32m   1069\u001B[0m \u001B[43m    \u001B[49m\u001B[43m)\u001B[49m\n\u001B[0;32m   1071\u001B[0m \u001B[38;5;28;01mif\u001B[39;00m copy:\n\u001B[0;32m   1072\u001B[0m     \u001B[38;5;28;01mif\u001B[39;00m _is_numpy_namespace(xp):\n\u001B[0;32m   1073\u001B[0m         \u001B[38;5;66;03m# only make a copy if `array` and `array_orig` may share memory`\u001B[39;00m\n",
      "File \u001B[1;32mE:\\Users\\ADITYA\\anaconda3\\envs\\ML\\Lib\\site-packages\\sklearn\\utils\\validation.py:123\u001B[0m, in \u001B[0;36m_assert_all_finite\u001B[1;34m(X, allow_nan, msg_dtype, estimator_name, input_name)\u001B[0m\n\u001B[0;32m    120\u001B[0m \u001B[38;5;28;01mif\u001B[39;00m first_pass_isfinite:\n\u001B[0;32m    121\u001B[0m     \u001B[38;5;28;01mreturn\u001B[39;00m\n\u001B[1;32m--> 123\u001B[0m \u001B[43m_assert_all_finite_element_wise\u001B[49m\u001B[43m(\u001B[49m\n\u001B[0;32m    124\u001B[0m \u001B[43m    \u001B[49m\u001B[43mX\u001B[49m\u001B[43m,\u001B[49m\n\u001B[0;32m    125\u001B[0m \u001B[43m    \u001B[49m\u001B[43mxp\u001B[49m\u001B[38;5;241;43m=\u001B[39;49m\u001B[43mxp\u001B[49m\u001B[43m,\u001B[49m\n\u001B[0;32m    126\u001B[0m \u001B[43m    \u001B[49m\u001B[43mallow_nan\u001B[49m\u001B[38;5;241;43m=\u001B[39;49m\u001B[43mallow_nan\u001B[49m\u001B[43m,\u001B[49m\n\u001B[0;32m    127\u001B[0m \u001B[43m    \u001B[49m\u001B[43mmsg_dtype\u001B[49m\u001B[38;5;241;43m=\u001B[39;49m\u001B[43mmsg_dtype\u001B[49m\u001B[43m,\u001B[49m\n\u001B[0;32m    128\u001B[0m \u001B[43m    \u001B[49m\u001B[43mestimator_name\u001B[49m\u001B[38;5;241;43m=\u001B[39;49m\u001B[43mestimator_name\u001B[49m\u001B[43m,\u001B[49m\n\u001B[0;32m    129\u001B[0m \u001B[43m    \u001B[49m\u001B[43minput_name\u001B[49m\u001B[38;5;241;43m=\u001B[39;49m\u001B[43minput_name\u001B[49m\u001B[43m,\u001B[49m\n\u001B[0;32m    130\u001B[0m \u001B[43m\u001B[49m\u001B[43m)\u001B[49m\n",
      "File \u001B[1;32mE:\\Users\\ADITYA\\anaconda3\\envs\\ML\\Lib\\site-packages\\sklearn\\utils\\validation.py:172\u001B[0m, in \u001B[0;36m_assert_all_finite_element_wise\u001B[1;34m(X, xp, allow_nan, msg_dtype, estimator_name, input_name)\u001B[0m\n\u001B[0;32m    155\u001B[0m \u001B[38;5;28;01mif\u001B[39;00m estimator_name \u001B[38;5;129;01mand\u001B[39;00m input_name \u001B[38;5;241m==\u001B[39m \u001B[38;5;124m\"\u001B[39m\u001B[38;5;124mX\u001B[39m\u001B[38;5;124m\"\u001B[39m \u001B[38;5;129;01mand\u001B[39;00m has_nan_error:\n\u001B[0;32m    156\u001B[0m     \u001B[38;5;66;03m# Improve the error message on how to handle missing values in\u001B[39;00m\n\u001B[0;32m    157\u001B[0m     \u001B[38;5;66;03m# scikit-learn.\u001B[39;00m\n\u001B[0;32m    158\u001B[0m     msg_err \u001B[38;5;241m+\u001B[39m\u001B[38;5;241m=\u001B[39m (\n\u001B[0;32m    159\u001B[0m         \u001B[38;5;124mf\u001B[39m\u001B[38;5;124m\"\u001B[39m\u001B[38;5;130;01m\\n\u001B[39;00m\u001B[38;5;132;01m{\u001B[39;00mestimator_name\u001B[38;5;132;01m}\u001B[39;00m\u001B[38;5;124m does not accept missing values\u001B[39m\u001B[38;5;124m\"\u001B[39m\n\u001B[0;32m    160\u001B[0m         \u001B[38;5;124m\"\u001B[39m\u001B[38;5;124m encoded as NaN natively. For supervised learning, you might want\u001B[39m\u001B[38;5;124m\"\u001B[39m\n\u001B[1;32m   (...)\u001B[0m\n\u001B[0;32m    170\u001B[0m         \u001B[38;5;124m\"\u001B[39m\u001B[38;5;124m#estimators-that-handle-nan-values\u001B[39m\u001B[38;5;124m\"\u001B[39m\n\u001B[0;32m    171\u001B[0m     )\n\u001B[1;32m--> 172\u001B[0m \u001B[38;5;28;01mraise\u001B[39;00m \u001B[38;5;167;01mValueError\u001B[39;00m(msg_err)\n",
      "\u001B[1;31mValueError\u001B[0m: Input X contains infinity or a value too large for dtype('float64')."
     ]
    }
   ],
   "source": [
    "from sklearn.preprocessing import StandardScaler\n",
    "\n",
    "# Initialize scaler\n",
    "scaler = StandardScaler()\n",
    "\n",
    "# Apply normalization to numerical columns: 'reviews', 'price', 'interaction_score', etc.\n",
    "df[['reviews', 'price', 'interaction_score']] = scaler.fit_transform(df[['reviews', 'price', 'interaction_score']])\n",
    "\n",
    "# Check the normalized values\n",
    "print(df.head())\n"
   ],
   "metadata": {
    "collapsed": false,
    "ExecuteTime": {
     "end_time": "2024-10-07T16:29:43.393441700Z",
     "start_time": "2024-10-07T16:29:32.534029700Z"
    }
   },
   "id": "1fa2f4042e8baefa"
  },
  {
   "cell_type": "code",
   "execution_count": null,
   "outputs": [],
   "source": [
    "from sklearn.model_selection import train_test_split\n",
    "\n",
    "# For content-based filtering or general purpose splitting\n",
    "train, test = train_test_split(df, test_size=0.25, random_state=42)\n",
    "\n",
    "# Display train and test sizes\n",
    "print(f\"Train set: {train.shape}\")\n",
    "print(f\"Test set: {test.shape}\")\n"
   ],
   "metadata": {
    "collapsed": false,
    "ExecuteTime": {
     "start_time": "2024-10-07T16:29:43.397441900Z"
    }
   },
   "id": "4d69337466a744e8"
  },
  {
   "cell_type": "code",
   "execution_count": null,
   "outputs": [],
   "source": [
    "# Save the processed dataset to a new CSV file\n",
    "df.to_csv('processed_ecommerce_data.csv', index=False)\n",
    "\n",
    "print(\"Preprocessing complete and file saved!\")\n"
   ],
   "metadata": {
    "collapsed": false,
    "ExecuteTime": {
     "end_time": "2024-10-07T16:29:43.414443400Z",
     "start_time": "2024-10-07T16:29:43.398441600Z"
    }
   },
   "id": "995ee632dbf080c8"
  }
 ],
 "metadata": {
  "kernelspec": {
   "display_name": "Python 3",
   "language": "python",
   "name": "python3"
  },
  "language_info": {
   "codemirror_mode": {
    "name": "ipython",
    "version": 2
   },
   "file_extension": ".py",
   "mimetype": "text/x-python",
   "name": "python",
   "nbconvert_exporter": "python",
   "pygments_lexer": "ipython2",
   "version": "2.7.6"
  }
 },
 "nbformat": 4,
 "nbformat_minor": 5
}
